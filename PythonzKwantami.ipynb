{
  "metadata": {
    "vscode": {
      "interpreter": {
        "hash": "aef9b3ce87058c6b0f85bff897ec088c1db0e7ab8ce3c1b2406f93df7782672f"
      }
    },
    "kernelspec": {
      "name": "python",
      "display_name": "Python (Pyodide)",
      "language": "python"
    },
    "language_info": {
      "codemirror_mode": {
        "name": "python",
        "version": 3
      },
      "file_extension": ".py",
      "mimetype": "text/x-python",
      "name": "python",
      "nbconvert_exporter": "python",
      "pygments_lexer": "ipython3",
      "version": "3.8"
    }
  },
  "nbformat_minor": 4,
  "nbformat": 4,
  "cells": [
    {
      "cell_type": "markdown",
      "source": "Zajęcia zintegrowane FOGT",
      "metadata": {}
    },
    {
      "cell_type": "code",
      "source": "import sympy as sp\nimport numpy as np\nimport matplotlib.pyplot as plt\nfrom sympy.utilities import lambdify\nfrom matplotlib.animation import FuncAnimation\nfrom IPython.display import HTML\n\nsp.init_printing()",
      "metadata": {
        "trusted": true
      },
      "execution_count": 2,
      "outputs": []
    },
    {
      "cell_type": "code",
      "source": "x = sp.Symbol('x', real = True)\nk = sp.Symbol('k', real = True, positive = True)\na = sp.Symbol('a', real = True)\nn = sp.Symbol('n', integer = True, nonzero = True)\nm = sp.Symbol('m', real = True, positive = True)\nh = sp.Symbol('hbar', real = True, positive = True)\nt = sp.Symbol('t', real = True, positive = True)\npsi = sp.Function('\\psi')\n\nx, k, a, psi(x), n, m, h, t",
      "metadata": {
        "trusted": true
      },
      "execution_count": 3,
      "outputs": [
        {
          "execution_count": 3,
          "output_type": "execute_result",
          "data": {
            "text/plain": "(x, k, a, \\psi(x), n, m, h̅, t)",
            "image/png": "[encoded data removed]",
            "text/latex": "$\\displaystyle \\left( x, \\  k, \\  a, \\  \\psi{\\left(x \\right)}, \\  n, \\  m, \\  \\hbar, \\  t\\right)$"
          },
          "metadata": {}
        }
      ]
    },
    {
      "cell_type": "code",
      "source": "psi(x).diff(x, x)",
      "metadata": {
        "trusted": true
      },
      "execution_count": 4,
      "outputs": [
        {
          "execution_count": 4,
          "output_type": "execute_result",
          "data": {
            "text/plain": "  2         \n d          \n───(\\psi(x))\n  2         \ndx          ",
            "image/png": "[encoded data removed]",
            "text/latex": "$\\displaystyle \\frac{d^{2}}{d x^{2}} \\psi{\\left(x \\right)}$"
          },
          "metadata": {}
        }
      ]
    },
    {
      "cell_type": "code",
      "source": "\n\n-k**2 * psi(x)",
      "metadata": {
        "trusted": true
      },
      "execution_count": 5,
      "outputs": [
        {
          "execution_count": 5,
          "output_type": "execute_result",
          "data": {
            "text/plain": "  2        \n-k ⋅\\psi(x)",
            "image/png": "[encoded data removed]",
            "text/latex": "$\\displaystyle - k^{2} \\psi{\\left(x \\right)}$"
          },
          "metadata": {}
        }
      ]
    },
    {
      "cell_type": "code",
      "source": "eq = sp.Eq(psi(x).diff(x, x), -k**2 * psi(x))\neq",
      "metadata": {
        "trusted": true
      },
      "execution_count": 6,
      "outputs": [
        {
          "execution_count": 6,
          "output_type": "execute_result",
          "data": {
            "text/plain": "  2                       \n d               2        \n───(\\psi(x)) = -k ⋅\\psi(x)\n  2                       \ndx                        ",
            "image/png": "[encoded data removed]",
            "text/latex": "$\\displaystyle \\frac{d^{2}}{d x^{2}} \\psi{\\left(x \\right)} = - k^{2} \\psi{\\left(x \\right)}$"
          },
          "metadata": {}
        }
      ]
    },
    {
      "cell_type": "code",
      "source": "sol = sp.dsolve(eq, psi(x), ics = {psi(0): 0, psi(a): 0})\nsol",
      "metadata": {
        "trusted": true
      },
      "execution_count": 7,
      "outputs": [
        {
          "execution_count": 7,
          "output_type": "execute_result",
          "data": {
            "text/plain": "\\psi(x) = 0",
            "image/png": "[encoded data removed]",
            "text/latex": "$\\displaystyle \\psi{\\left(x \\right)} = 0$"
          },
          "metadata": {}
        }
      ]
    },
    {
      "cell_type": "code",
      "source": "sol = sp.dsolve(eq, psi(x), ics = {psi(0): 0})\nsol",
      "metadata": {
        "trusted": true
      },
      "execution_count": 8,
      "outputs": [
        {
          "execution_count": 8,
          "output_type": "execute_result",
          "data": {
            "text/plain": "\\psi(x) = C₁⋅sin(k⋅x)",
            "image/png": "[encoded data removed]",
            "text/latex": "$\\displaystyle \\psi{\\left(x \\right)} = C_{1} \\sin{\\left(k x \\right)}$"
          },
          "metadata": {}
        }
      ]
    },
    {
      "cell_type": "code",
      "source": "#sol = sp.dsolve(eq, psi(x), ics = {psi(0): 0, psi(a): 0})\n #sol",
      "metadata": {
        "trusted": true
      },
      "execution_count": 9,
      "outputs": []
    },
    {
      "cell_type": "code",
      "source": "plt.hlines(np.arange(1, 10)**2, 0, 1)",
      "metadata": {
        "trusted": true
      },
      "execution_count": 10,
      "outputs": [
        {
          "execution_count": 10,
          "output_type": "execute_result",
          "data": {
            "text/plain": "<matplotlib.collections.LineCollection at 0x46f6de8>"
          },
          "metadata": {}
        },
        {
          "output_type": "display_data",
          "data": {
            "text/plain": "<Figure size 640x480 with 1 Axes>",
            "image/png": "[encoded data removed]"
          },
          "metadata": {}
        }
      ]
    },
    {
      "cell_type": "code",
      "source": "sol = sol.subs(k, n * sp.pi / a)\nsol",
      "metadata": {
        "trusted": true
      },
      "execution_count": 11,
      "outputs": [
        {
          "execution_count": 11,
          "output_type": "execute_result",
          "data": {
            "text/plain": "                ⎛π⋅n⋅x⎞\n\\psi(x) = C₁⋅sin⎜─────⎟\n                ⎝  a  ⎠",
            "image/png": "[encoded data removed]",
            "text/latex": "$\\displaystyle \\psi{\\left(x \\right)} = C_{1} \\sin{\\left(\\frac{\\pi n x}{a} \\right)}$"
          },
          "metadata": {}
        }
      ]
    },
    {
      "cell_type": "code",
      "source": "sol.lhs, sol.rhs",
      "metadata": {
        "trusted": true
      },
      "execution_count": 12,
      "outputs": [
        {
          "execution_count": 12,
          "output_type": "execute_result",
          "data": {
            "text/plain": "⎛               ⎛π⋅n⋅x⎞⎞\n⎜\\psi(x), C₁⋅sin⎜─────⎟⎟\n⎝               ⎝  a  ⎠⎠",
            "image/png": "[encoded data removed]",
            "text/latex": "$\\displaystyle \\left( \\psi{\\left(x \\right)}, \\  C_{1} \\sin{\\left(\\frac{\\pi n x}{a} \\right)}\\right)$"
          },
          "metadata": {}
        }
      ]
    },
    {
      "cell_type": "code",
      "source": "sol.rhs**2",
      "metadata": {
        "trusted": true
      },
      "execution_count": 13,
      "outputs": [
        {
          "execution_count": 13,
          "output_type": "execute_result",
          "data": {
            "text/plain": "  2    2⎛π⋅n⋅x⎞\nC₁ ⋅sin ⎜─────⎟\n        ⎝  a  ⎠",
            "image/png": "[encoded data removed]",
            "text/latex": "$\\displaystyle C_{1}^{2} \\sin^{2}{\\left(\\frac{\\pi n x}{a} \\right)}$"
          },
          "metadata": {}
        }
      ]
    },
    {
      "cell_type": "code",
      "source": "sp.integrate(sp.Abs(sol.rhs)**2, (x, 0, a))",
      "metadata": {
        "trusted": true
      },
      "execution_count": 14,
      "outputs": [
        {
          "execution_count": 14,
          "output_type": "execute_result",
          "data": {
            "text/plain": "a                    \n⌠                    \n⎮                2   \n⎮ │      ⎛π⋅n⋅x⎞│    \n⎮ │C₁⋅sin⎜─────⎟│  dx\n⎮ │      ⎝  a  ⎠│    \n⌡                    \n0                    ",
            "image/png": "[encoded data removed]",
            "text/latex": "$\\displaystyle \\int\\limits_{0}^{a} \\left|{C_{1} \\sin{\\left(\\frac{\\pi n x}{a} \\right)}}\\right|^{2}\\, dx$"
          },
          "metadata": {}
        }
      ]
    },
    {
      "cell_type": "code",
      "source": "sol.rhs * sp.conjugate(sol.rhs)",
      "metadata": {
        "trusted": true
      },
      "execution_count": 15,
      "outputs": [
        {
          "execution_count": 15,
          "output_type": "execute_result",
          "data": {
            "text/plain": "      2⎛π⋅n⋅x⎞ __\nC₁⋅sin ⎜─────⎟⋅C₁\n       ⎝  a  ⎠   ",
            "image/png": "[encoded data removed]",
            "text/latex": "$\\displaystyle C_{1} \\sin^{2}{\\left(\\frac{\\pi n x}{a} \\right)} \\overline{C_{1}}$"
          },
          "metadata": {}
        }
      ]
    },
    {
      "cell_type": "code",
      "source": "sp.integrate(sol.rhs * sp.conjugate(sol.rhs), (x, 0, a))",
      "metadata": {
        "trusted": true
      },
      "execution_count": 16,
      "outputs": [
        {
          "execution_count": 16,
          "output_type": "execute_result",
          "data": {
            "text/plain": "     __\nC₁⋅a⋅C₁\n───────\n   2   ",
            "image/png": "[encoded data removed]",
            "text/latex": "$\\displaystyle \\frac{C_{1} a \\overline{C_{1}}}{2}$"
          },
          "metadata": {}
        }
      ]
    },
    {
      "cell_type": "code",
      "source": "sp.integrate(sol.rhs**2, (x, 0, a))",
      "metadata": {
        "trusted": true
      },
      "execution_count": 17,
      "outputs": [
        {
          "execution_count": 17,
          "output_type": "execute_result",
          "data": {
            "text/plain": "  2  \nC₁ ⋅a\n─────\n  2  ",
            "image/png": "[encoded data removed]",
            "text/latex": "$\\displaystyle \\frac{C_{1}^{2} a}{2}$"
          },
          "metadata": {}
        }
      ]
    },
    {
      "cell_type": "code",
      "source": "sp.Symbol('C1')",
      "metadata": {
        "trusted": true
      },
      "execution_count": 18,
      "outputs": [
        {
          "execution_count": 18,
          "output_type": "execute_result",
          "data": {
            "text/plain": "C₁",
            "image/png": "[encoded data removed]",
            "text/latex": "$\\displaystyle C_{1}$"
          },
          "metadata": {}
        }
      ]
    },
    {
      "cell_type": "code",
      "source": "sol = sol.subs(sp.Symbol('C1'), sp.sqrt(2 / a))\nsol",
      "metadata": {
        "trusted": true
      },
      "execution_count": 19,
      "outputs": [
        {
          "execution_count": 19,
          "output_type": "execute_result",
          "data": {
            "text/plain": "                 ___           \n                ╱ 1     ⎛π⋅n⋅x⎞\n\\psi(x) = √2⋅  ╱  ─ ⋅sin⎜─────⎟\n             ╲╱   a     ⎝  a  ⎠",
            "image/png": "[encoded data removed]",
            "text/latex": "$\\displaystyle \\psi{\\left(x \\right)} = \\sqrt{2} \\sqrt{\\frac{1}{a}} \\sin{\\left(\\frac{\\pi n x}{a} \\right)}$"
          },
          "metadata": {}
        }
      ]
    },
    {
      "cell_type": "code",
      "source": "E = n**2 * sp.pi**2 * h**2 / (2 * m * a**2)\nE",
      "metadata": {
        "trusted": true
      },
      "execution_count": 20,
      "outputs": [
        {
          "execution_count": 20,
          "output_type": "execute_result",
          "data": {
            "text/plain": " 2  2  2\nπ ⋅h̅ ⋅n \n────────\n    2   \n 2⋅a ⋅m ",
            "image/png": "[encoded data removed]",
            "text/latex": "$\\displaystyle \\frac{\\pi^{2} \\hbar^{2} n^{2}}{2 a^{2} m}$"
          },
          "metadata": {}
        }
      ]
    },
    {
      "cell_type": "code",
      "source": "fi = sp.exp(-sp.I * E * t / h)\nfi",
      "metadata": {
        "trusted": true
      },
      "execution_count": 21,
      "outputs": [
        {
          "execution_count": 21,
          "output_type": "execute_result",
          "data": {
            "text/plain": "     2    2   \n -ⅈ⋅π ⋅h̅⋅n ⋅t \n ─────────────\n        2     \n     2⋅a ⋅m   \nℯ             ",
            "image/png": "[encoded data removed]",
            "text/latex": "$\\displaystyle e^{- \\frac{i \\pi^{2} \\hbar n^{2} t}{2 a^{2} m}}$"
          },
          "metadata": {}
        }
      ]
    },
    {
      "cell_type": "code",
      "source": "Psi = sol.rhs * fi\nPsi",
      "metadata": {
        "trusted": true
      },
      "execution_count": 22,
      "outputs": [
        {
          "execution_count": 22,
          "output_type": "execute_result",
          "data": {
            "text/plain": "                2    2              \n            -ⅈ⋅π ⋅h̅⋅n ⋅t            \n            ─────────────           \n       ___         2                \n      ╱ 1       2⋅a ⋅m       ⎛π⋅n⋅x⎞\n√2⋅  ╱  ─ ⋅ℯ             ⋅sin⎜─────⎟\n   ╲╱   a                    ⎝  a  ⎠",
            "image/png": "[encoded data removed]",
            "text/latex": "$\\displaystyle \\sqrt{2} \\sqrt{\\frac{1}{a}} e^{- \\frac{i \\pi^{2} \\hbar n^{2} t}{2 a^{2} m}} \\sin{\\left(\\frac{\\pi n x}{a} \\right)}$"
          },
          "metadata": {}
        }
      ]
    },
    {
      "cell_type": "code",
      "source": "Psi.subs({m: 1, a:1, h: 1})",
      "metadata": {
        "trusted": true
      },
      "execution_count": 23,
      "outputs": [
        {
          "execution_count": 23,
          "output_type": "execute_result",
          "data": {
            "text/plain": "        2  2              \n    -ⅈ⋅π ⋅n ⋅t            \n    ───────────           \n         2                \n√2⋅ℯ           ⋅sin(π⋅n⋅x)",
            "image/png": "[encoded data removed]",
            "text/latex": "$\\displaystyle \\sqrt{2} e^{- \\frac{i \\pi^{2} n^{2} t}{2}} \\sin{\\left(\\pi n x \\right)}$"
          },
          "metadata": {}
        }
      ]
    },
    {
      "cell_type": "code",
      "source": "Psif = lambdify((x, t, n), Psi.subs({m: 1, a: 1, h: 1}))",
      "metadata": {
        "trusted": true
      },
      "execution_count": 24,
      "outputs": []
    },
    {
      "cell_type": "code",
      "source": "Psif(0.3, 0.1, 1)",
      "metadata": {
        "trusted": true
      },
      "execution_count": 25,
      "outputs": [
        {
          "execution_count": 25,
          "output_type": "execute_result",
          "data": {
            "text/plain": "(1.0076170982526242-0.5419638158437412j)"
          },
          "metadata": {}
        }
      ]
    },
    {
      "cell_type": "code",
      "source": "xs = np.linspace(0, 1, 1000)\n\nPsif(xs, 0.1, 1).real",
      "metadata": {
        "trusted": true
      },
      "execution_count": 26,
      "outputs": [
        {
          "execution_count": 26,
          "output_type": "execute_result",
          "data": {
            "text/plain": "array([0.00000000e+00, 3.91671122e-03, 7.83338371e-03, 1.17499787e-02,\n       1.56664576e-02, 1.95827815e-02, 2.34989117e-02, 2.74148095e-02,\n       3.13304362e-02, 3.52457531e-02, 3.91607215e-02, 4.30753025e-02,\n       4.69894576e-02, 5.09031480e-02, 5.48163349e-02, 5.87289798e-02,\n       6.26410439e-02, 6.65524885e-02, 7.04632749e-02, 7.43733645e-02,\n       7.82827186e-02, 8.21912986e-02, 8.60990657e-02, 9.00059813e-02,\n       9.39120068e-02, 9.78171037e-02, 1.01721233e-01, 1.05624357e-01,\n       1.09526436e-01, 1.13427431e-01, 1.17327305e-01, 1.21226019e-01,\n       1.25123534e-01, 1.29019812e-01, 1.32914813e-01, 1.36808501e-01,\n       1.40700835e-01, 1.44591778e-01, 1.48481290e-01, 1.52369335e-01,\n       1.56255872e-01, 1.60140865e-01, 1.64024274e-01, 1.67906060e-01,\n       1.71786186e-01, 1.75664613e-01, 1.79541304e-01, 1.83416218e-01,\n       1.87289319e-01, 1.91160567e-01, 1.95029925e-01, 1.98897354e-01,\n       2.02762817e-01, 2.06626274e-01, 2.10487687e-01, 2.14347019e-01,\n       2.18204232e-01, 2.22059286e-01, 2.25912145e-01, 2.29762769e-01,\n       2.33611121e-01, 2.37457163e-01, 2.41300856e-01, 2.45142164e-01,\n       2.48981047e-01, 2.52817467e-01, 2.56651388e-01, 2.60482770e-01,\n       2.64311576e-01, 2.68137769e-01, 2.71961309e-01, 2.75782161e-01,\n       2.79600284e-01, 2.83415643e-01, 2.87228199e-01, 2.91037915e-01,\n       2.94844752e-01, 2.98648674e-01, 3.02449642e-01, 3.06247619e-01,\n       3.10042567e-01, 3.13834449e-01, 3.17623228e-01, 3.21408866e-01,\n       3.25191325e-01, 3.28970568e-01, 3.32746558e-01, 3.36519257e-01,\n       3.40288628e-01, 3.44054634e-01, 3.47817238e-01, 3.51576401e-01,\n       3.55332088e-01, 3.59084261e-01, 3.62832883e-01, 3.66577917e-01,\n       3.70319325e-01, 3.74057071e-01, 3.77791118e-01, 3.81521429e-01,\n       3.85247967e-01, 3.88970695e-01, 3.92689576e-01, 3.96404574e-01,\n       4.00115652e-01, 4.03822773e-01, 4.07525900e-01, 4.11224997e-01,\n       4.14920027e-01, 4.18610954e-01, 4.22297741e-01, 4.25980352e-01,\n       4.29658751e-01, 4.33332900e-01, 4.37002764e-01, 4.40668306e-01,\n       4.44329490e-01, 4.47986280e-01, 4.51638640e-01, 4.55286534e-01,\n       4.58929924e-01, 4.62568777e-01, 4.66203055e-01, 4.69832722e-01,\n       4.73457743e-01, 4.77078082e-01, 4.80693703e-01, 4.84304570e-01,\n       4.87910648e-01, 4.91511900e-01, 4.95108292e-01, 4.98699787e-01,\n       5.02286351e-01, 5.05867947e-01, 5.09444541e-01, 5.13016097e-01,\n       5.16582579e-01, 5.20143952e-01, 5.23700182e-01, 5.27251232e-01,\n       5.30797069e-01, 5.34337656e-01, 5.37872959e-01, 5.41402942e-01,\n       5.44927572e-01, 5.48446812e-01, 5.51960629e-01, 5.55468987e-01,\n       5.58971852e-01, 5.62469189e-01, 5.65960964e-01, 5.69447141e-01,\n       5.72927687e-01, 5.76402568e-01, 5.79871748e-01, 5.83335193e-01,\n       5.86792870e-01, 5.90244743e-01, 5.93690780e-01, 5.97130945e-01,\n       6.00565205e-01, 6.03993526e-01, 6.07415873e-01, 6.10832214e-01,\n       6.14242514e-01, 6.17646739e-01, 6.21044857e-01, 6.24436832e-01,\n       6.27822633e-01, 6.31202224e-01, 6.34575574e-01, 6.37942647e-01,\n       6.41303412e-01, 6.44657835e-01, 6.48005883e-01, 6.51347522e-01,\n       6.54682720e-01, 6.58011444e-01, 6.61333660e-01, 6.64649336e-01,\n       6.67958439e-01, 6.71260936e-01, 6.74556795e-01, 6.77845983e-01,\n       6.81128468e-01, 6.84404216e-01, 6.87673197e-01, 6.90935376e-01,\n       6.94190723e-01, 6.97439205e-01, 7.00680789e-01, 7.03915444e-01,\n       7.07143138e-01, 7.10363839e-01, 7.13577514e-01, 7.16784133e-01,\n       7.19983663e-01, 7.23176073e-01, 7.26361332e-01, 7.29539407e-01,\n       7.32710267e-01, 7.35873882e-01, 7.39030219e-01, 7.42179247e-01,\n       7.45320936e-01, 7.48455254e-01, 7.51582170e-01, 7.54701654e-01,\n       7.57813674e-01, 7.60918200e-01, 7.64015201e-01, 7.67104646e-01,\n       7.70186505e-01, 7.73260747e-01, 7.76327342e-01, 7.79386260e-01,\n       7.82437471e-01, 7.85480943e-01, 7.88516648e-01, 7.91544554e-01,\n       7.94564633e-01, 7.97576854e-01, 8.00581188e-01, 8.03577604e-01,\n       8.06566073e-01, 8.09546566e-01, 8.12519053e-01, 8.15483505e-01,\n       8.18439892e-01, 8.21388185e-01, 8.24328356e-01, 8.27260374e-01,\n       8.30184211e-01, 8.33099838e-01, 8.36007226e-01, 8.38906347e-01,\n       8.41797171e-01, 8.44679671e-01, 8.47553817e-01, 8.50419582e-01,\n       8.53276936e-01, 8.56125852e-01, 8.58966302e-01, 8.61798257e-01,\n       8.64621689e-01, 8.67436570e-01, 8.70242874e-01, 8.73040571e-01,\n       8.75829634e-01, 8.78610036e-01, 8.81381749e-01, 8.84144746e-01,\n       8.86898999e-01, 8.89644481e-01, 8.92381165e-01, 8.95109024e-01,\n       8.97828031e-01, 9.00538159e-01, 9.03239382e-01, 9.05931672e-01,\n       9.08615002e-01, 9.11289348e-01, 9.13954681e-01, 9.16610975e-01,\n       9.19258205e-01, 9.21896344e-01, 9.24525366e-01, 9.27145246e-01,\n       9.29755956e-01, 9.32357471e-01, 9.34949766e-01, 9.37532816e-01,\n       9.40106593e-01, 9.42671073e-01, 9.45226231e-01, 9.47772042e-01,\n       9.50308479e-01, 9.52835519e-01, 9.55353135e-01, 9.57861304e-01,\n       9.60360000e-01, 9.62849199e-01, 9.65328876e-01, 9.67799006e-01,\n       9.70259565e-01, 9.72710529e-01, 9.75151874e-01, 9.77583575e-01,\n       9.80005608e-01, 9.82417950e-01, 9.84820576e-01, 9.87213463e-01,\n       9.89596587e-01, 9.91969924e-01, 9.94333452e-01, 9.96687146e-01,\n       9.99030984e-01, 1.00136494e+00, 1.00368900e+00, 1.00600313e+00,\n       1.00830731e+00, 1.01060152e+00, 1.01288573e+00, 1.01515993e+00,\n       1.01742409e+00, 1.01967818e+00, 1.02192220e+00, 1.02415610e+00,\n       1.02637988e+00, 1.02859351e+00, 1.03079697e+00, 1.03299023e+00,\n       1.03517328e+00, 1.03734608e+00, 1.03950864e+00, 1.04166091e+00,\n       1.04380288e+00, 1.04593452e+00, 1.04805583e+00, 1.05016676e+00,\n       1.05226732e+00, 1.05435746e+00, 1.05643718e+00, 1.05850646e+00,\n       1.06056526e+00, 1.06261358e+00, 1.06465138e+00, 1.06667866e+00,\n       1.06869539e+00, 1.07070155e+00, 1.07269713e+00, 1.07468209e+00,\n       1.07665643e+00, 1.07862012e+00, 1.08057314e+00, 1.08251547e+00,\n       1.08444710e+00, 1.08636801e+00, 1.08827817e+00, 1.09017757e+00,\n       1.09206619e+00, 1.09394401e+00, 1.09581101e+00, 1.09766718e+00,\n       1.09951249e+00, 1.10134692e+00, 1.10317046e+00, 1.10498310e+00,\n       1.10678480e+00, 1.10857557e+00, 1.11035536e+00, 1.11212418e+00,\n       1.11388200e+00, 1.11562880e+00, 1.11736457e+00, 1.11908929e+00,\n       1.12080295e+00, 1.12250552e+00, 1.12419699e+00, 1.12587734e+00,\n       1.12754655e+00, 1.12920462e+00, 1.13085152e+00, 1.13248723e+00,\n       1.13411175e+00, 1.13572505e+00, 1.13732712e+00, 1.13891794e+00,\n       1.14049750e+00, 1.14206578e+00, 1.14362276e+00, 1.14516844e+00,\n       1.14670279e+00, 1.14822580e+00, 1.14973745e+00, 1.15123774e+00,\n       1.15272664e+00, 1.15420414e+00, 1.15567022e+00, 1.15712488e+00,\n       1.15856809e+00, 1.15999985e+00, 1.16142013e+00, 1.16282893e+00,\n       1.16422623e+00, 1.16561202e+00, 1.16698627e+00, 1.16834899e+00,\n       1.16970015e+00, 1.17103975e+00, 1.17236777e+00, 1.17368419e+00,\n       1.17498900e+00, 1.17628219e+00, 1.17756376e+00, 1.17883367e+00,\n       1.18009193e+00, 1.18133852e+00, 1.18257342e+00, 1.18379663e+00,\n       1.18500814e+00, 1.18620792e+00, 1.18739597e+00, 1.18857228e+00,\n       1.18973684e+00, 1.19088963e+00, 1.19203065e+00, 1.19315987e+00,\n       1.19427730e+00, 1.19538291e+00, 1.19647670e+00, 1.19755867e+00,\n       1.19862878e+00, 1.19968705e+00, 1.20073345e+00, 1.20176797e+00,\n       1.20279061e+00, 1.20380136e+00, 1.20480020e+00, 1.20578713e+00,\n       1.20676213e+00, 1.20772520e+00, 1.20867632e+00, 1.20961549e+00,\n       1.21054270e+00, 1.21145794e+00, 1.21236120e+00, 1.21325246e+00,\n       1.21413173e+00, 1.21499900e+00, 1.21585424e+00, 1.21669747e+00,\n       1.21752866e+00, 1.21834780e+00, 1.21915491e+00, 1.21994995e+00,\n       1.22073293e+00, 1.22150384e+00, 1.22226266e+00, 1.22300940e+00,\n       1.22374405e+00, 1.22446659e+00, 1.22517703e+00, 1.22587535e+00,\n       1.22656154e+00, 1.22723560e+00, 1.22789753e+00, 1.22854732e+00,\n       1.22918495e+00, 1.22981043e+00, 1.23042375e+00, 1.23102490e+00,\n       1.23161388e+00, 1.23219067e+00, 1.23275528e+00, 1.23330770e+00,\n       1.23384792e+00, 1.23437594e+00, 1.23489176e+00, 1.23539536e+00,\n       1.23588674e+00, 1.23636590e+00, 1.23683284e+00, 1.23728754e+00,\n       1.23773001e+00, 1.23816023e+00, 1.23857821e+00, 1.23898395e+00,\n       1.23937743e+00, 1.23975865e+00, 1.24012762e+00, 1.24048431e+00,\n       1.24082875e+00, 1.24116091e+00, 1.24148079e+00, 1.24178840e+00,\n       1.24208373e+00, 1.24236678e+00, 1.24263754e+00, 1.24289601e+00,\n       1.24314218e+00, 1.24337607e+00, 1.24359766e+00, 1.24380695e+00,\n       1.24400394e+00, 1.24418862e+00, 1.24436101e+00, 1.24452108e+00,\n       1.24466885e+00, 1.24480431e+00, 1.24492746e+00, 1.24503830e+00,\n       1.24513683e+00, 1.24522304e+00, 1.24529694e+00, 1.24535852e+00,\n       1.24540779e+00, 1.24544474e+00, 1.24546937e+00, 1.24548169e+00,\n       1.24548169e+00, 1.24546937e+00, 1.24544474e+00, 1.24540779e+00,\n       1.24535852e+00, 1.24529694e+00, 1.24522304e+00, 1.24513683e+00,\n       1.24503830e+00, 1.24492746e+00, 1.24480431e+00, 1.24466885e+00,\n       1.24452108e+00, 1.24436101e+00, 1.24418862e+00, 1.24400394e+00,\n       1.24380695e+00, 1.24359766e+00, 1.24337607e+00, 1.24314218e+00,\n       1.24289601e+00, 1.24263754e+00, 1.24236678e+00, 1.24208373e+00,\n       1.24178840e+00, 1.24148079e+00, 1.24116091e+00, 1.24082875e+00,\n       1.24048431e+00, 1.24012762e+00, 1.23975865e+00, 1.23937743e+00,\n       1.23898395e+00, 1.23857821e+00, 1.23816023e+00, 1.23773001e+00,\n       1.23728754e+00, 1.23683284e+00, 1.23636590e+00, 1.23588674e+00,\n       1.23539536e+00, 1.23489176e+00, 1.23437594e+00, 1.23384792e+00,\n       1.23330770e+00, 1.23275528e+00, 1.23219067e+00, 1.23161388e+00,\n       1.23102490e+00, 1.23042375e+00, 1.22981043e+00, 1.22918495e+00,\n       1.22854732e+00, 1.22789753e+00, 1.22723560e+00, 1.22656154e+00,\n       1.22587535e+00, 1.22517703e+00, 1.22446659e+00, 1.22374405e+00,\n       1.22300940e+00, 1.22226266e+00, 1.22150384e+00, 1.22073293e+00,\n       1.21994995e+00, 1.21915491e+00, 1.21834780e+00, 1.21752866e+00,\n       1.21669747e+00, 1.21585424e+00, 1.21499900e+00, 1.21413173e+00,\n       1.21325246e+00, 1.21236120e+00, 1.21145794e+00, 1.21054270e+00,\n       1.20961549e+00, 1.20867632e+00, 1.20772520e+00, 1.20676213e+00,\n       1.20578713e+00, 1.20480020e+00, 1.20380136e+00, 1.20279061e+00,\n       1.20176797e+00, 1.20073345e+00, 1.19968705e+00, 1.19862878e+00,\n       1.19755867e+00, 1.19647670e+00, 1.19538291e+00, 1.19427730e+00,\n       1.19315987e+00, 1.19203065e+00, 1.19088963e+00, 1.18973684e+00,\n       1.18857228e+00, 1.18739597e+00, 1.18620792e+00, 1.18500814e+00,\n       1.18379663e+00, 1.18257342e+00, 1.18133852e+00, 1.18009193e+00,\n       1.17883367e+00, 1.17756376e+00, 1.17628219e+00, 1.17498900e+00,\n       1.17368419e+00, 1.17236777e+00, 1.17103975e+00, 1.16970015e+00,\n       1.16834899e+00, 1.16698627e+00, 1.16561202e+00, 1.16422623e+00,\n       1.16282893e+00, 1.16142013e+00, 1.15999985e+00, 1.15856809e+00,\n       1.15712488e+00, 1.15567022e+00, 1.15420414e+00, 1.15272664e+00,\n       1.15123774e+00, 1.14973745e+00, 1.14822580e+00, 1.14670279e+00,\n       1.14516844e+00, 1.14362276e+00, 1.14206578e+00, 1.14049750e+00,\n       1.13891794e+00, 1.13732712e+00, 1.13572505e+00, 1.13411175e+00,\n       1.13248723e+00, 1.13085152e+00, 1.12920462e+00, 1.12754655e+00,\n       1.12587734e+00, 1.12419699e+00, 1.12250552e+00, 1.12080295e+00,\n       1.11908929e+00, 1.11736457e+00, 1.11562880e+00, 1.11388200e+00,\n       1.11212418e+00, 1.11035536e+00, 1.10857557e+00, 1.10678480e+00,\n       1.10498310e+00, 1.10317046e+00, 1.10134692e+00, 1.09951249e+00,\n       1.09766718e+00, 1.09581101e+00, 1.09394401e+00, 1.09206619e+00,\n       1.09017757e+00, 1.08827817e+00, 1.08636801e+00, 1.08444710e+00,\n       1.08251547e+00, 1.08057314e+00, 1.07862012e+00, 1.07665643e+00,\n       1.07468209e+00, 1.07269713e+00, 1.07070155e+00, 1.06869539e+00,\n       1.06667866e+00, 1.06465138e+00, 1.06261358e+00, 1.06056526e+00,\n       1.05850646e+00, 1.05643718e+00, 1.05435746e+00, 1.05226732e+00,\n       1.05016676e+00, 1.04805583e+00, 1.04593452e+00, 1.04380288e+00,\n       1.04166091e+00, 1.03950864e+00, 1.03734608e+00, 1.03517328e+00,\n       1.03299023e+00, 1.03079697e+00, 1.02859351e+00, 1.02637988e+00,\n       1.02415610e+00, 1.02192220e+00, 1.01967818e+00, 1.01742409e+00,\n       1.01515993e+00, 1.01288573e+00, 1.01060152e+00, 1.00830731e+00,\n       1.00600313e+00, 1.00368900e+00, 1.00136494e+00, 9.99030984e-01,\n       9.96687146e-01, 9.94333452e-01, 9.91969924e-01, 9.89596587e-01,\n       9.87213463e-01, 9.84820576e-01, 9.82417950e-01, 9.80005608e-01,\n       9.77583575e-01, 9.75151874e-01, 9.72710529e-01, 9.70259565e-01,\n       9.67799006e-01, 9.65328876e-01, 9.62849199e-01, 9.60360000e-01,\n       9.57861304e-01, 9.55353135e-01, 9.52835519e-01, 9.50308479e-01,\n       9.47772042e-01, 9.45226231e-01, 9.42671073e-01, 9.40106593e-01,\n       9.37532816e-01, 9.34949766e-01, 9.32357471e-01, 9.29755956e-01,\n       9.27145246e-01, 9.24525366e-01, 9.21896344e-01, 9.19258205e-01,\n       9.16610975e-01, 9.13954681e-01, 9.11289348e-01, 9.08615002e-01,\n       9.05931672e-01, 9.03239382e-01, 9.00538159e-01, 8.97828031e-01,\n       8.95109024e-01, 8.92381165e-01, 8.89644481e-01, 8.86898999e-01,\n       8.84144746e-01, 8.81381749e-01, 8.78610036e-01, 8.75829634e-01,\n       8.73040571e-01, 8.70242874e-01, 8.67436570e-01, 8.64621689e-01,\n       8.61798257e-01, 8.58966302e-01, 8.56125852e-01, 8.53276936e-01,\n       8.50419582e-01, 8.47553817e-01, 8.44679671e-01, 8.41797171e-01,\n       8.38906347e-01, 8.36007226e-01, 8.33099838e-01, 8.30184211e-01,\n       8.27260374e-01, 8.24328356e-01, 8.21388185e-01, 8.18439892e-01,\n       8.15483505e-01, 8.12519053e-01, 8.09546566e-01, 8.06566073e-01,\n       8.03577604e-01, 8.00581188e-01, 7.97576854e-01, 7.94564633e-01,\n       7.91544554e-01, 7.88516648e-01, 7.85480943e-01, 7.82437471e-01,\n       7.79386260e-01, 7.76327342e-01, 7.73260747e-01, 7.70186505e-01,\n       7.67104646e-01, 7.64015201e-01, 7.60918200e-01, 7.57813674e-01,\n       7.54701654e-01, 7.51582170e-01, 7.48455254e-01, 7.45320936e-01,\n       7.42179247e-01, 7.39030219e-01, 7.35873882e-01, 7.32710267e-01,\n       7.29539407e-01, 7.26361332e-01, 7.23176073e-01, 7.19983663e-01,\n       7.16784133e-01, 7.13577514e-01, 7.10363839e-01, 7.07143138e-01,\n       7.03915444e-01, 7.00680789e-01, 6.97439205e-01, 6.94190723e-01,\n       6.90935376e-01, 6.87673197e-01, 6.84404216e-01, 6.81128468e-01,\n       6.77845983e-01, 6.74556795e-01, 6.71260936e-01, 6.67958439e-01,\n       6.64649336e-01, 6.61333660e-01, 6.58011444e-01, 6.54682720e-01,\n       6.51347522e-01, 6.48005883e-01, 6.44657835e-01, 6.41303412e-01,\n       6.37942647e-01, 6.34575574e-01, 6.31202224e-01, 6.27822633e-01,\n       6.24436832e-01, 6.21044857e-01, 6.17646739e-01, 6.14242514e-01,\n       6.10832214e-01, 6.07415873e-01, 6.03993526e-01, 6.00565205e-01,\n       5.97130945e-01, 5.93690780e-01, 5.90244743e-01, 5.86792870e-01,\n       5.83335193e-01, 5.79871748e-01, 5.76402568e-01, 5.72927687e-01,\n       5.69447141e-01, 5.65960964e-01, 5.62469189e-01, 5.58971852e-01,\n       5.55468987e-01, 5.51960629e-01, 5.48446812e-01, 5.44927572e-01,\n       5.41402942e-01, 5.37872959e-01, 5.34337656e-01, 5.30797069e-01,\n       5.27251232e-01, 5.23700182e-01, 5.20143952e-01, 5.16582579e-01,\n       5.13016097e-01, 5.09444541e-01, 5.05867947e-01, 5.02286351e-01,\n       4.98699787e-01, 4.95108292e-01, 4.91511900e-01, 4.87910648e-01,\n       4.84304570e-01, 4.80693703e-01, 4.77078082e-01, 4.73457743e-01,\n       4.69832722e-01, 4.66203055e-01, 4.62568777e-01, 4.58929924e-01,\n       4.55286534e-01, 4.51638640e-01, 4.47986280e-01, 4.44329490e-01,\n       4.40668306e-01, 4.37002764e-01, 4.33332900e-01, 4.29658751e-01,\n       4.25980352e-01, 4.22297741e-01, 4.18610954e-01, 4.14920027e-01,\n       4.11224997e-01, 4.07525900e-01, 4.03822773e-01, 4.00115652e-01,\n       3.96404574e-01, 3.92689576e-01, 3.88970695e-01, 3.85247967e-01,\n       3.81521429e-01, 3.77791118e-01, 3.74057071e-01, 3.70319325e-01,\n       3.66577917e-01, 3.62832883e-01, 3.59084261e-01, 3.55332088e-01,\n       3.51576401e-01, 3.47817238e-01, 3.44054634e-01, 3.40288628e-01,\n       3.36519257e-01, 3.32746558e-01, 3.28970568e-01, 3.25191325e-01,\n       3.21408866e-01, 3.17623228e-01, 3.13834449e-01, 3.10042567e-01,\n       3.06247619e-01, 3.02449642e-01, 2.98648674e-01, 2.94844752e-01,\n       2.91037915e-01, 2.87228199e-01, 2.83415643e-01, 2.79600284e-01,\n       2.75782161e-01, 2.71961309e-01, 2.68137769e-01, 2.64311576e-01,\n       2.60482770e-01, 2.56651388e-01, 2.52817467e-01, 2.48981047e-01,\n       2.45142164e-01, 2.41300856e-01, 2.37457163e-01, 2.33611121e-01,\n       2.29762769e-01, 2.25912145e-01, 2.22059286e-01, 2.18204232e-01,\n       2.14347019e-01, 2.10487687e-01, 2.06626274e-01, 2.02762817e-01,\n       1.98897354e-01, 1.95029925e-01, 1.91160567e-01, 1.87289319e-01,\n       1.83416218e-01, 1.79541304e-01, 1.75664613e-01, 1.71786186e-01,\n       1.67906060e-01, 1.64024274e-01, 1.60140865e-01, 1.56255872e-01,\n       1.52369335e-01, 1.48481290e-01, 1.44591778e-01, 1.40700835e-01,\n       1.36808501e-01, 1.32914813e-01, 1.29019812e-01, 1.25123534e-01,\n       1.21226019e-01, 1.17327305e-01, 1.13427431e-01, 1.09526436e-01,\n       1.05624357e-01, 1.01721233e-01, 9.78171037e-02, 9.39120068e-02,\n       9.00059813e-02, 8.60990657e-02, 8.21912986e-02, 7.82827186e-02,\n       7.43733645e-02, 7.04632749e-02, 6.65524885e-02, 6.26410439e-02,\n       5.87289798e-02, 5.48163349e-02, 5.09031480e-02, 4.69894576e-02,\n       4.30753025e-02, 3.91607215e-02, 3.52457531e-02, 3.13304362e-02,\n       2.74148095e-02, 2.34989117e-02, 1.95827815e-02, 1.56664576e-02,\n       1.17499787e-02, 7.83338371e-03, 3.91671122e-03, 1.52527705e-16])"
          },
          "metadata": {}
        }
      ]
    },
    {
      "cell_type": "code",
      "source": "sp.integrate(sol.rhs * x * sol.rhs, (x, 0, a))",
      "metadata": {
        "trusted": true
      },
      "execution_count": 27,
      "outputs": [
        {
          "execution_count": 27,
          "output_type": "execute_result",
          "data": {
            "text/plain": "a\n─\n2",
            "image/png": "[encoded data removed]",
            "text/latex": "$\\displaystyle \\frac{a}{2}$"
          },
          "metadata": {}
        }
      ]
    },
    {
      "cell_type": "code",
      "source": "x_square=sp.integrate(sol.rhs * x**2 * sol.rhs, (x, 0, a)).simplify()\nx_square",
      "metadata": {
        "trusted": true
      },
      "execution_count": 28,
      "outputs": [
        {
          "execution_count": 28,
          "output_type": "execute_result",
          "data": {
            "text/plain": " 2       2  \na       a   \n── - ───────\n3       2  2\n     2⋅π ⋅n ",
            "image/png": "[encoded data removed]",
            "text/latex": "$\\displaystyle \\frac{a^{2}}{3} - \\frac{a^{2}}{2 \\pi^{2} n^{2}}$"
          },
          "metadata": {}
        }
      ]
    },
    {
      "cell_type": "markdown",
      "source": "$$<p>=?$$   \n$$<p^2>=?$$\n\nCzy zasada nieznaczoności faktycznie jest spełniona?   ",
      "metadata": {}
    },
    {
      "cell_type": "markdown",
      "source": "### *<center> Zadanie 1  </center>* \n\n$$<p> =\\int_{0}^{a} \\psi^{*}  -\\imath  \\hbar \\frac{\\partial \\psi}{\\partial x} dx $$   \n",
      "metadata": {}
    },
    {
      "cell_type": "code",
      "source": "# średnia pędu  \nsol = sol.subs(sp.Symbol('C1'), sp.sqrt(2 / a))\nsol\nn=1\np =sol.rhs*(-sp.I)*h*sp.diff(sol.rhs, x) \nsp.integrate(p, (x, 0, a)).simplify()",
      "metadata": {
        "trusted": true
      },
      "execution_count": 29,
      "outputs": [
        {
          "execution_count": 29,
          "output_type": "execute_result",
          "data": {
            "text/plain": "0",
            "image/png": "[encoded data removed]",
            "text/latex": "$\\displaystyle 0$"
          },
          "metadata": {}
        }
      ]
    },
    {
      "cell_type": "markdown",
      "source": "Wynik: całka równa 0",
      "metadata": {}
    },
    {
      "cell_type": "markdown",
      "source": "### *<center> Zadanie 2</center>* \n$$<p^2> = \\int_{0}^{a} \\psi^{*}  -\\imath  \\hbar \\frac{\\partial^{2} \\psi}{\\partial x^{2}} dx $$\n",
      "metadata": {}
    },
    {
      "cell_type": "code",
      "source": "#średnia kwadratu pędu\n#n = sp.Symbol('n', real = True)\n# n=1 h=1 ?\n\nx_square=sp.integrate(sol.rhs * x**2 * sol.rhs, (x, 0, a)).simplify()\n\nfirst_diff=sp.diff(sol.rhs, x)*(-sp.I)*h\n\nsecond_diff=sp.diff(first_diff, x) *(-sp.I)*h\np_square =(second_diff*sol.rhs).simplify() \nanswer=sp.integrate(p_square, (x, 0, a)).simplify()\nanswer.subs(n,1)",
      "metadata": {
        "trusted": true
      },
      "execution_count": 30,
      "outputs": [
        {
          "execution_count": 30,
          "output_type": "execute_result",
          "data": {
            "text/plain": " 2  2  2\nπ ⋅h̅ ⋅n \n────────\n    2   \n   a    ",
            "image/png": "[encoded data removed]",
            "text/latex": "$\\displaystyle \\frac{\\pi^{2} \\hbar^{2} n^{2}}{a^{2}}$"
          },
          "metadata": {}
        }
      ]
    },
    {
      "cell_type": "markdown",
      "source": "Wynikiem średniego kwadratu pędu jest $$ \\frac{\\pi^{2} \\hbar^{2} n^{2}}{a^{2}}$$\n",
      "metadata": {}
    },
    {
      "cell_type": "code",
      "source": "### Zasada nieoznaczoności jest spełniona\n",
      "metadata": {
        "trusted": true
      },
      "execution_count": 31,
      "outputs": []
    },
    {
      "cell_type": "code",
      "source": "",
      "metadata": {},
      "execution_count": null,
      "outputs": []
    },
    {
      "cell_type": "code",
      "source": "",
      "metadata": {},
      "execution_count": null,
      "outputs": []
    }
  ]
}